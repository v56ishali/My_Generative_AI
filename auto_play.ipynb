{
  "nbformat": 4,
  "nbformat_minor": 0,
  "metadata": {
    "colab": {
      "provenance": []
    },
    "kernelspec": {
      "name": "python3",
      "display_name": "Python 3"
    },
    "language_info": {
      "name": "python"
    }
  },
  "cells": [
    {
      "cell_type": "code",
      "execution_count": null,
      "metadata": {
        "colab": {
          "base_uri": "https://localhost:8080/"
        },
        "id": "JrAx-a-lRkDh",
        "outputId": "412a9c3f-4679-430b-aefa-8f0ccc5766b8"
      },
      "outputs": [
        {
          "output_type": "stream",
          "name": "stdout",
          "text": [
            "Reading package lists... Done\n",
            "Building dependency tree... Done\n",
            "Reading state information... Done\n",
            "ffmpeg is already the newest version (7:4.4.2-0ubuntu0.22.04.1).\n",
            "0 upgraded, 0 newly installed, 0 to remove and 35 not upgraded.\n"
          ]
        }
      ],
      "source": [
        "# 🔹 STEP 1: Install required packages\n",
        "!pip install SpeechRecognition gradio scikit-learn --quiet\n",
        "!apt-get install -y ffmpeg\n"
      ]
    },
    {
      "cell_type": "code",
      "source": [
        "# Voice-Controlled Song Player with YouTube Link using ML and Gradio\n",
        "\n",
        "import os\n",
        "import gradio as gr\n",
        "import speech_recognition as sr\n",
        "from sklearn.feature_extraction.text import CountVectorizer\n",
        "from sklearn.ensemble import RandomForestClassifier\n",
        "\n",
        "# Sample training data\n",
        "commands = [\n",
        "    \"play rowdy baby\",\n",
        "    \"play vaathi coming\",\n",
        "    \"play arabic kuthu\",\n",
        "    \"play enjoy enjaami\",\n",
        "    \"play why this kolaveri di\",\n",
        "    \"play seval kodi\"\n",
        "]\n",
        "\n",
        "links = [\n",
        "    \"https://www.youtube.com/watch?v=x6Q7c9RyMzk&list=RDx6Q7c9RyMzk&start_radio=1\",  # Rowdy Baby - Official\n",
        "    \"https://www.youtube.com/watch?v=fRD_3vJagxk\",  # Vaathi Coming - Sun TV\n",
        "    \"https://www.youtube.com/watch?v=KUN5Uf9mObQ&list=RDKUN5Uf9mObQ&start_radio=1\",  # Arabic Kuthu - Official\n",
        "    \"https://www.youtube.com/watch?v=eYq7WapuDLU&list=RDeYq7WapuDLU&start_radio=1\",  # Enjoy Enjaami - Maajja\n",
        "    \"https://www.youtube.com/watch?v=YR12Z8f1Dh8&list=RDYR12Z8f1Dh8&start_radio=1\",   # Why This Kolaveri Di - Official\n",
        "    \"https://www.youtube.com/watch?v=f0Oa2MIa7NY&list=RDf0Oa2MIa7NY&start_radio=1\"    #seval kodi-official\n",
        "]\n",
        "\n",
        "\n",
        "# Vectorize text commands\n",
        "vectorizer = CountVectorizer()\n",
        "X = vectorizer.fit_transform(commands)\n",
        "y = links\n",
        "\n",
        "# Train RandomForest model\n",
        "clf = RandomForestClassifier()\n",
        "clf.fit(X, y)\n",
        "\n",
        "# Prediction + YouTube Clickable Link\n",
        "\n",
        "def recognize_and_predict(audio_path):\n",
        "    recognizer = sr.Recognizer()\n",
        "    with sr.AudioFile(audio_path) as source:\n",
        "        audio_data = recognizer.record(source)\n",
        "    try:\n",
        "        command = recognizer.recognize_google(audio_data)\n",
        "        test_vec = vectorizer.transform([command])\n",
        "        predicted_url = clf.predict(test_vec)[0]\n",
        "\n",
        "        # Make clickable YouTube link\n",
        "        clickable_link = f\"<a href='{predicted_url}' target='_blank'>🎧 Click here to play the song on YouTube</a>\"\n",
        "\n",
        "        return f\"You said: '{command}'\", predicted_url, clickable_link\n",
        "    except sr.UnknownValueError:\n",
        "        return \"Sorry, I couldn't understand your voice.\", None, \"\"\n",
        "    except Exception as e:\n",
        "        return f\"Error: {str(e)}\", None, \"\"\n",
        "\n",
        "# Gradio UI\n",
        "gr.Interface(\n",
        "    fn=recognize_and_predict,\n",
        "    inputs=gr.Audio(type=\"filepath\", label=\"🎙️ Speak a song name like 'play Kaavaalaa'\"),\n",
        "    outputs=[\n",
        "        gr.Textbox(label=\"Recognized Command\"),\n",
        "        gr.Textbox(label=\"YouTube Song Link\"),\n",
        "        gr.HTML(label=\"🎬 Play Song on YouTube\")\n",
        "    ],\n",
        "    title=\"🎵 Voice Song Assistant\",\n",
        "    description=\"Say a command like: 'play rowdy baby' and get a clickable YouTube song link.\"\n",
        ").launch()\n"
      ],
      "metadata": {
        "colab": {
          "base_uri": "https://localhost:8080/",
          "height": 645
        },
        "id": "VgGgrZ4nRmRi",
        "outputId": "4e7bdbe5-e88e-4507-d46c-586471244f2f"
      },
      "execution_count": null,
      "outputs": [
        {
          "output_type": "stream",
          "name": "stdout",
          "text": [
            "It looks like you are running Gradio on a hosted a Jupyter notebook. For the Gradio app to work, sharing must be enabled. Automatically setting `share=True` (you can turn this off by setting `share=False` in `launch()` explicitly).\n",
            "\n",
            "Colab notebook detected. To show errors in colab notebook, set debug=True in launch()\n",
            "* Running on public URL: https://a9a05841b07c833ffa.gradio.live\n",
            "\n",
            "This share link expires in 1 week. For free permanent hosting and GPU upgrades, run `gradio deploy` from the terminal in the working directory to deploy to Hugging Face Spaces (https://huggingface.co/spaces)\n"
          ]
        },
        {
          "output_type": "display_data",
          "data": {
            "text/plain": [
              "<IPython.core.display.HTML object>"
            ],
            "text/html": [
              "<div><iframe src=\"https://a9a05841b07c833ffa.gradio.live\" width=\"100%\" height=\"500\" allow=\"autoplay; camera; microphone; clipboard-read; clipboard-write;\" frameborder=\"0\" allowfullscreen></iframe></div>"
            ]
          },
          "metadata": {}
        },
        {
          "output_type": "execute_result",
          "data": {
            "text/plain": []
          },
          "metadata": {},
          "execution_count": 7
        }
      ]
    }
  ]
}