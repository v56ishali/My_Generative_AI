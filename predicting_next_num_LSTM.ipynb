{
  "nbformat": 4,
  "nbformat_minor": 0,
  "metadata": {
    "colab": {
      "provenance": []
    },
    "kernelspec": {
      "name": "python3",
      "display_name": "Python 3"
    },
    "language_info": {
      "name": "python"
    }
  },
  "cells": [
    {
      "cell_type": "code",
      "source": [
        "import numpy as np\n",
        "from tensorflow.keras.layers import LSTM, Dense\n",
        "from tensorflow.keras.models import Sequential\n",
        "import matplotlib.pyplot as plt"
      ],
      "metadata": {
        "id": "tfLjG3-6AqN_"
      },
      "execution_count": 13,
      "outputs": []
    },
    {
      "cell_type": "code",
      "source": [
        "#create sequence: 1 to 100\n",
        "sequence=np.arange(1,101)"
      ],
      "metadata": {
        "id": "7PGjjjkN9Ne1"
      },
      "execution_count": 14,
      "outputs": []
    },
    {
      "cell_type": "code",
      "source": [
        "#Define window size(eg.,3 inputs-> 1 output)\n",
        "window_size=3\n",
        "x=[]\n",
        "y=[]"
      ],
      "metadata": {
        "id": "FsWvy8rk-a0H"
      },
      "execution_count": 15,
      "outputs": []
    },
    {
      "cell_type": "code",
      "source": [
        "#create input output pairs\n",
        "for i in range(len(sequence)-window_size):\n",
        "    x.append(sequence[i:i+window_size])\n",
        "    y.append(sequence[i+window_size])"
      ],
      "metadata": {
        "id": "wP4dIbG0-fxE"
      },
      "execution_count": 16,
      "outputs": []
    },
    {
      "cell_type": "code",
      "source": [
        "#convert to numpy arrays\n",
        "x=np.array(x)\n",
        "y=np.array(y)"
      ],
      "metadata": {
        "id": "ddM8MKSK-jNL"
      },
      "execution_count": 17,
      "outputs": []
    },
    {
      "cell_type": "code",
      "source": [
        "#Reshape x to [sample, timesteps, features]\n",
        "x=x.reshape((x.shape[0],x.shape[1],1))"
      ],
      "metadata": {
        "id": "GjfQ60wR-nay"
      },
      "execution_count": 18,
      "outputs": []
    },
    {
      "cell_type": "code",
      "source": [
        "model=Sequential()\n",
        "model.add(LSTM(50,activation='relu',input_shape=(window_size,1)))\n",
        "model.add(Dense(1)) #output layer\n",
        "model.compile(optimizer='adam',loss='mse')"
      ],
      "metadata": {
        "colab": {
          "base_uri": "https://localhost:8080/"
        },
        "id": "PiREHhZT-uNy",
        "outputId": "f1f4cd8c-63ff-4a0c-f167-eb181afc166d"
      },
      "execution_count": 19,
      "outputs": [
        {
          "output_type": "stream",
          "name": "stderr",
          "text": [
            "/usr/local/lib/python3.11/dist-packages/keras/src/layers/rnn/rnn.py:200: UserWarning: Do not pass an `input_shape`/`input_dim` argument to a layer. When using Sequential models, prefer using an `Input(shape)` object as the first layer in the model instead.\n",
            "  super().__init__(**kwargs)\n"
          ]
        }
      ]
    },
    {
      "cell_type": "code",
      "source": [
        "model.fit(x,y,epochs=500,verbose=0)\n",
        "print(\"Model trained successfully\")"
      ],
      "metadata": {
        "colab": {
          "base_uri": "https://localhost:8080/"
        },
        "id": "-ClyrbHc-2ur",
        "outputId": "110ca9e7-6390-419d-8309-583f1fb9b7e5"
      },
      "execution_count": 20,
      "outputs": [
        {
          "output_type": "stream",
          "name": "stdout",
          "text": [
            "Model trained successfully\n"
          ]
        }
      ]
    },
    {
      "cell_type": "code",
      "source": [
        "test_input=np.array([8,9,10])\n",
        "test_input=test_input.reshape((1,window_size,1)) #Reshape the prediction\n",
        "predicted=model.predict(test_input,verbose=0)\n",
        "print(f\"Predicted the next number: {predicted[0][0]:.2f}\")"
      ],
      "metadata": {
        "colab": {
          "base_uri": "https://localhost:8080/"
        },
        "id": "W6GAW8WM_KhV",
        "outputId": "20dec536-79a1-4438-e22b-d663b241fad1"
      },
      "execution_count": 21,
      "outputs": [
        {
          "output_type": "stream",
          "name": "stdout",
          "text": [
            "Predicted the next number: 10.91\n"
          ]
        }
      ]
    },
    {
      "cell_type": "code",
      "source": [
        "predictions=model.predict(x)\n",
        "plt.plot(y,label='True Values')\n",
        "plt.plot(predictions,label='Predicted Values')\n",
        "plt.xlabel('Time')\n",
        "plt.ylabel('Value')\n",
        "plt.legend()\n",
        "plt.title('True vs Predicted Values')\n",
        "plt.show()"
      ],
      "metadata": {
        "colab": {
          "base_uri": "https://localhost:8080/",
          "height": 489
        },
        "id": "hFljeoRg_58c",
        "outputId": "b3e4fbbf-4214-4220-dcd9-1942b043e865"
      },
      "execution_count": 22,
      "outputs": [
        {
          "output_type": "stream",
          "name": "stdout",
          "text": [
            "\u001b[1m4/4\u001b[0m \u001b[32m━━━━━━━━━━━━━━━━━━━━\u001b[0m\u001b[37m\u001b[0m \u001b[1m0s\u001b[0m 9ms/step  \n"
          ]
        },
        {
          "output_type": "display_data",
          "data": {
            "text/plain": [
              "<Figure size 640x480 with 1 Axes>"
            ],
            "image/png": "[encoded data removed]"
          },
          "metadata": {}
        }
      ]
    }
  ]
}