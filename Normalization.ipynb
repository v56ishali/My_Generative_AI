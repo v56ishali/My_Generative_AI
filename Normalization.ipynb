{
  "nbformat": 4,
  "nbformat_minor": 0,
  "metadata": {
    "colab": {
      "provenance": []
    },
    "kernelspec": {
      "name": "python3",
      "display_name": "Python 3"
    },
    "language_info": {
      "name": "python"
    }
  },
  "cells": [
    {
      "cell_type": "code",
      "source": [
        "text = \"There is a beautiful Waterfalls\"\n",
        "normalized_text = text.lower()"
      ],
      "metadata": {
        "id": "CaHMzrGS0jXn"
      },
      "execution_count": 5,
      "outputs": []
    },
    {
      "cell_type": "code",
      "source": [
        "normalized_text=\" \".join(c for c in normalized_text if c.isalnum() or c.isspace())"
      ],
      "metadata": {
        "id": "QQIG0Oxm1rgt"
      },
      "execution_count": 6,
      "outputs": []
    },
    {
      "cell_type": "code",
      "source": [
        "normalized_text=\" \".join(normalized_text.split())\n",
        "print(\"original text:\",text)\n",
        "print(\"Normalized Text:\",normalized_text)"
      ],
      "metadata": {
        "colab": {
          "base_uri": "https://localhost:8080/"
        },
        "id": "dvqeAJOS1voP",
        "outputId": "9123c930-6709-4323-c139-c252271697e3"
      },
      "execution_count": 7,
      "outputs": [
        {
          "output_type": "stream",
          "name": "stdout",
          "text": [
            "original text: There is a beautiful Waterfalls\n",
            "Normalized Text: t h e r e i s a b e a u t i f u l w a t e r f a l l s\n"
          ]
        }
      ]
    }
  ]
}